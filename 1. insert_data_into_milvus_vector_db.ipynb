{
 "cells": [
  {
   "cell_type": "code",
   "execution_count": 1,
   "id": "c3ef6b89-2bc8-4e89-8576-28433de9e452",
   "metadata": {
    "tags": []
   },
   "outputs": [],
   "source": [
    "# ! pip install pymilvus==2.3.1"
   ]
  },
  {
   "cell_type": "code",
   "execution_count": 2,
   "id": "8e55f124-5f33-4639-95a8-41cb3e070224",
   "metadata": {
    "tags": []
   },
   "outputs": [],
   "source": [
    "import pandas as pd\n",
    "import numpy as np\n",
    "from tqdm import tqdm\n",
    "from dotenv import load_dotenv\n",
    "import os\n",
    "from tensorflow.keras.models import load_model, Model\n",
    "from tensorflow.keras.utils import load_img, save_img, img_to_array\n",
    "from tensorflow.keras.applications.vgg19 import preprocess_input\n",
    "from tensorflow.keras.layers import GlobalAveragePooling2D\n",
    "from pymilvus import connections, utility\n",
    "from pymilvus import Collection, DataType, FieldSchema, CollectionSchema"
   ]
  },
  {
   "cell_type": "markdown",
   "id": "f250f84f-df6c-4c79-afaa-b70ac8a9e28e",
   "metadata": {},
   "source": [
    "### Read images"
   ]
  },
  {
   "cell_type": "code",
   "execution_count": 3,
   "id": "fa7a4eb1-052f-4e4e-be31-972cdf03d977",
   "metadata": {
    "tags": []
   },
   "outputs": [],
   "source": [
    "images = []\n",
    "for i in os.listdir(os.path.join(\"Vegetable Images\", \"test\")):\n",
    "    for j in os.listdir(os.path.join(\"Vegetable Images\", \"test\", i))[:100]: # onsider 100 images from each class\n",
    "        images.append(os.path.join(\"Vegetable Images\", \"test\", i, j)) # appending image paths to images list"
   ]
  },
  {
   "cell_type": "code",
   "execution_count": 4,
   "id": "07cd88cb-498a-4b3a-b089-2bf70a8f3a6f",
   "metadata": {
    "tags": []
   },
   "outputs": [
    {
     "data": {
      "text/plain": [
       "1500"
      ]
     },
     "execution_count": 4,
     "metadata": {},
     "output_type": "execute_result"
    }
   ],
   "source": [
    "len(images)"
   ]
  },
  {
   "cell_type": "markdown",
   "id": "84ae23a0-5f7d-4be1-922f-5b07cc3f13bd",
   "metadata": {
    "tags": []
   },
   "source": [
    "### Vectorization using VGG19 model fine tuned on vegetable images"
   ]
  },
  {
   "cell_type": "code",
   "execution_count": 5,
   "id": "7b456d38-17e2-4e90-89bc-c7ece765af38",
   "metadata": {
    "tags": []
   },
   "outputs": [],
   "source": [
    "class ImageVectorizer:\n",
    "    '''\n",
    "    Get vector representation of an image using VGG19 model fine tuned on vegetable images for classification\n",
    "    '''\n",
    "    \n",
    "    def __init__(self):\n",
    "        self.__model = self.get_model()\n",
    "    \n",
    "    @staticmethod\n",
    "    def get_model():\n",
    "        model = load_model('vegetable_classification_model_vgg.h5') # loading saved VGG model finetuned on vegetable images for classification\n",
    "        top = model.get_layer('block5_pool').output\n",
    "        top = GlobalAveragePooling2D()(top)\n",
    "        model = Model(inputs=model.input, outputs=top)\n",
    "        return model\n",
    "    \n",
    "    def vectorize(self, img_path: str):\n",
    "        model = self.__model\n",
    "        test_image = load_img(img_path, color_mode=\"rgb\", target_size=(224, 224))\n",
    "        test_image = img_to_array(test_image)\n",
    "        test_image = preprocess_input(test_image)\n",
    "        test_image = np.array([test_image])\n",
    "        return model(test_image).numpy()[0]"
   ]
  },
  {
   "cell_type": "code",
   "execution_count": 6,
   "id": "82f22f09-7f2e-4393-919f-2a2731071bf3",
   "metadata": {
    "tags": []
   },
   "outputs": [],
   "source": [
    "vectorizer = ImageVectorizer()"
   ]
  },
  {
   "cell_type": "code",
   "execution_count": 7,
   "id": "1b0d1853-51bd-4c76-89dc-f10e734741e7",
   "metadata": {
    "tags": []
   },
   "outputs": [
    {
     "data": {
      "text/plain": [
       "43"
      ]
     },
     "execution_count": 7,
     "metadata": {},
     "output_type": "execute_result"
    }
   ],
   "source": [
    "# getting max length of image path to be used for VARCHAR while defining schema\n",
    "max_path_len = max([len(s) for s in images])\n",
    "max_path_len"
   ]
  },
  {
   "cell_type": "code",
   "execution_count": 8,
   "id": "bd541a58-100d-40fe-b029-b87d930752e8",
   "metadata": {
    "tags": []
   },
   "outputs": [],
   "source": [
    "# Reading milvus URI & API token from secrets.env\n",
    "load_dotenv('secrets.env')\n",
    "uri = os.environ.get(\"URI\")\n",
    "token = os.environ.get(\"TOKEN\")"
   ]
  },
  {
   "cell_type": "code",
   "execution_count": 9,
   "id": "8a7c7895-9fa0-473b-b3f6-bec05c77b46b",
   "metadata": {
    "tags": []
   },
   "outputs": [
    {
     "name": "stdout",
     "output_type": "stream",
     "text": [
      "Connected to DB\n"
     ]
    }
   ],
   "source": [
    "# connecting to db\n",
    "connections.connect(\"default\", uri=uri, token=token)\n",
    "print(f\"Connected to DB\")"
   ]
  },
  {
   "cell_type": "code",
   "execution_count": 10,
   "id": "55c26ebe-f357-41f4-92af-edc3db342738",
   "metadata": {
    "tags": []
   },
   "outputs": [],
   "source": [
    "collection_name = os.environ.get(\"COLLECTION_NAME\")\n",
    "check_collection = utility.has_collection(collection_name)"
   ]
  },
  {
   "cell_type": "code",
   "execution_count": 11,
   "id": "16723db6-823b-4666-a84f-b4a870caa619",
   "metadata": {
    "tags": []
   },
   "outputs": [
    {
     "name": "stdout",
     "output_type": "stream",
     "text": [
      "Droped Existing collection\n"
     ]
    }
   ],
   "source": [
    "if check_collection:\n",
    "    drop_result = utility.drop_collection(collection_name)\n",
    "    print(\"Droped Existing collection\")"
   ]
  },
  {
   "cell_type": "code",
   "execution_count": 12,
   "id": "d44a7c74-aa9f-42aa-8ff7-694bf7b9b50d",
   "metadata": {
    "tags": []
   },
   "outputs": [
    {
     "name": "stdout",
     "output_type": "stream",
     "text": [
      "Creating the collection\n",
      "Schema: {'auto_id': False, 'description': 'collection of vegetable images', 'fields': [{'name': 'image_id', 'description': 'primary id', 'type': <DataType.INT64: 5>, 'is_primary': True, 'auto_id': False}, {'name': 'image_vector', 'description': '', 'type': <DataType.FLOAT_VECTOR: 101>, 'params': {'dim': 512}}, {'name': 'image_path', 'description': 'path of the image', 'type': <DataType.VARCHAR: 21>, 'params': {'max_length': 93}}]}\n",
      "Success!\n"
     ]
    }
   ],
   "source": [
    "# Creating collection schema\n",
    "dim = 512 # image vector dim\n",
    "image_id = FieldSchema(name=\"image_id\", dtype=DataType.INT64, is_primary=True, description=\"primary id\") # primary key\n",
    "image_embed_field = FieldSchema(name=\"image_vector\", dtype=DataType.FLOAT_VECTOR, dim=dim) # image vector\n",
    "image_desc = FieldSchema(name=\"image_path\", dtype=DataType.VARCHAR, max_length=(max_path_len + 50), # using max_path_len to specify VARCHAR len \n",
    "                           is_primary=False, description=\"path of the image\") # path of image\n",
    "schema = CollectionSchema(fields=[image_id, image_embed_field, image_desc], \n",
    "                          auto_id=False, description=\"collection of vegetable images\")\n",
    "print(f\"Creating the collection\")\n",
    "collection = Collection(name=collection_name, schema=schema)\n",
    "print(f\"Schema: {schema}\")\n",
    "print(\"Success!\")"
   ]
  },
  {
   "cell_type": "code",
   "execution_count": 13,
   "id": "7936d9eb-2713-451f-b845-04000379b341",
   "metadata": {
    "tags": []
   },
   "outputs": [
    {
     "name": "stderr",
     "output_type": "stream",
     "text": [
      "100%|██████████| 1500/1500 [06:08<00:00,  4.07it/s]\n"
     ]
    }
   ],
   "source": [
    "# Preparing data to load\n",
    "image_id = []\n",
    "image_path = []\n",
    "image_vector = []\n",
    "for i in tqdm(range(len(images))):\n",
    "    image_id.append(i)\n",
    "    image_path.append(images[i])\n",
    "    image_vector.append(vectorizer.vectorize(image_path[i]))\n",
    "docs = [image_id, image_vector, image_path]"
   ]
  },
  {
   "cell_type": "code",
   "execution_count": 16,
   "id": "b97eef21-85bd-40e4-af85-8b26640a239a",
   "metadata": {
    "tags": []
   },
   "outputs": [
    {
     "data": {
      "text/plain": [
       "(insert count: 1500, delete count: 0, upsert count: 0, timestamp: 444634998929883137, success count: 1500, err count: 0)"
      ]
     },
     "execution_count": 16,
     "metadata": {},
     "output_type": "execute_result"
    }
   ],
   "source": [
    "# insert images into collection\n",
    "ins_resp = collection.insert(docs)\n",
    "ins_resp # insertion result"
   ]
  },
  {
   "cell_type": "code",
   "execution_count": 17,
   "id": "af6b4eed-ca9c-4332-b502-0f4524406434",
   "metadata": {
    "tags": []
   },
   "outputs": [
    {
     "name": "stderr",
     "output_type": "stream",
     "text": [
      "alloc_timestamp unimplemented, ignore it\n"
     ]
    },
    {
     "data": {
      "text/plain": [
       "Status(code=0, message=)"
      ]
     },
     "execution_count": 17,
     "metadata": {},
     "output_type": "execute_result"
    }
   ],
   "source": [
    "# creating index on vector field (image_vector)\n",
    "# metric type: L2 (euclidean dist). supported: [L2 IP]\n",
    "index_params = {\"index_type\": \"AUTOINDEX\", \"metric_type\": \"L2\", \"params\": {}} \n",
    "collection.create_index(field_name='image_vector', index_params=index_params)"
   ]
  },
  {
   "cell_type": "code",
   "execution_count": null,
   "id": "faa212a0-9057-400f-8a4f-16054f5b66af",
   "metadata": {},
   "outputs": [],
   "source": []
  }
 ],
 "metadata": {
  "kernelspec": {
   "display_name": "Python 3 (ipykernel)",
   "language": "python",
   "name": "python3"
  },
  "language_info": {
   "codemirror_mode": {
    "name": "ipython",
    "version": 3
   },
   "file_extension": ".py",
   "mimetype": "text/x-python",
   "name": "python",
   "nbconvert_exporter": "python",
   "pygments_lexer": "ipython3",
   "version": "3.11.4"
  }
 },
 "nbformat": 4,
 "nbformat_minor": 5
}
